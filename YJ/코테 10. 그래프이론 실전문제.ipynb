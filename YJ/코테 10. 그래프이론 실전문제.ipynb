{
 "cells": [
  {
   "cell_type": "markdown",
   "metadata": {},
   "source": [
    "# 10. 그래프이론 실전문제"
   ]
  },
  {
   "cell_type": "code",
   "execution_count": 1,
   "metadata": {},
   "outputs": [
    {
     "name": "stdout",
     "output_type": "stream",
     "text": [
      "5 4\n",
      "0 1 0 1 1\n",
      "1 0 1 1 0\n",
      "0 1 0 0 0\n",
      "1 1 0 0 0\n",
      "1 0 0 0 0\n",
      "2 3 4 3\n",
      "YES\n"
     ]
    }
   ],
   "source": [
    "# 여행계획\n",
    "\n",
    "# 특정 원소가 속한 집합을 찾기\n",
    "def find_parent(parent, x):\n",
    "    if parent[x] != x:\n",
    "        parent[x] = find_parent(parent, parent[x])\n",
    "    return parent[x]\n",
    "\n",
    "def union_parent(parent, a, b):\n",
    "    a = find_parent(parent, a)\n",
    "    b = find_parent(parent, b)\n",
    "    if a < b:\n",
    "        parent[b] = a\n",
    "    else:\n",
    "        parent[a] = b\n",
    "\n",
    "# 여행지의 개수와 여행 계획에 속한 여행지의 개수 입력받기 \n",
    "n,m = map(int, input().split())\n",
    "parent = [0]*(n+1) # 부모 테이블 초기화\n",
    "\n",
    "# 부모 테이블 상에서 부모를 자기 자신으로 초기화\n",
    "for i in range(1,n+1):\n",
    "    parent[i] = i\n",
    "    \n",
    "# union 연산을 각각 수행\n",
    "for i in range(n):\n",
    "    data = list(map(int, input().split()))\n",
    "    for j in range(n):\n",
    "        if data[j] == 1:\n",
    "            union_parent(parent, i+1, j+1)\n",
    "            \n",
    "# 여행 계획 입력받기\n",
    "plan = list(map(int, input().split()))\n",
    "\n",
    "result = True\n",
    "# 여행 계획에 속하는 모든 노드의 루트가 동일한지 확인\n",
    "for i in range(m-1):\n",
    "    if find_parent(parent, plan[i]) != find_parent(parent, plan[i+1]):\n",
    "        result = False\n",
    "        \n",
    "# 여행 계획에 속하는 모든 노드가 서로 연결되어 있는지(루트가 동일하지) 확인\n",
    "if result:\n",
    "    print(\"YES\")\n",
    "else:\n",
    "    print(\"NO\")"
   ]
  },
  {
   "cell_type": "code",
   "execution_count": 4,
   "metadata": {},
   "outputs": [
    {
     "name": "stdout",
     "output_type": "stream",
     "text": [
      "4 6 2 2 3 3 4 4\n",
      "3\n"
     ]
    }
   ],
   "source": [
    "# 탑승구\n",
    "\n",
    "import sys\n",
    "import heapq\n",
    "\n",
    "inputs = list(map(int, input().split()))\n",
    "G = inputs[0]\n",
    "P = inputs[1]\n",
    "dockings = inputs[2:]\n",
    "\n",
    "def dock(dockings):\n",
    "    N = len(dockings)\n",
    "    # max heap\n",
    "    q = [(-1)*d for d in dockings]\n",
    "    heapq.heapify(q)\n",
    "    \n",
    "    while q:\n",
    "        max_gate = heapq.heappop(q)\n",
    "        # 게이트 최댓값이 N 이상이면, 최댓값 게이트에 비행기 도킹\n",
    "        if max_gate * (-1) >= N:\n",
    "            N -= 1\n",
    "        else:\n",
    "            break\n",
    "            \n",
    "    return True if len(q) == 0 else False\n",
    "\n",
    "# 최댓값: 탑승구 개수\n",
    "max_val = G\n",
    "# 최솟값: 1\n",
    "min_val = 1\n",
    "\n",
    "answer = None\n",
    "# 이진탐색\n",
    "while min_val <= max_val:\n",
    "    mid_val = (min_val + max_val)//2\n",
    "    if dock(dockings[:mid_val]):\n",
    "        answer = mid_val\n",
    "        min_val = mid_val + 1\n",
    "    # 도킹할 수 없으면 중간값 줄이기\n",
    "    else:\n",
    "        max_val = mid_val - 1\n",
    "\n",
    "print(answer)\n"
   ]
  },
  {
   "cell_type": "code",
   "execution_count": 8,
   "metadata": {},
   "outputs": [
    {
     "name": "stdout",
     "output_type": "stream",
     "text": [
      "7 11\n",
      "0 1 7\n",
      "0 3 5\n",
      "1 2 8\n",
      "1 3 9\n",
      "1 4 7\n",
      "2 4 5\n",
      "3 4 15\n",
      "3 5 6\n",
      "4 5 8\n",
      "4 6 9\n",
      "5 6 11\n",
      "51\n"
     ]
    }
   ],
   "source": [
    "# 어두운집\n",
    "\n",
    "# 특정원소가 속한 집합을 찾기\n",
    "def find_parent(parent,x):\n",
    "    # 루트 노드가 아니라면, 루트 노드를 찾을 때까지 재귀적으로 호출\n",
    "    if parent[x] != x:\n",
    "        parent[x] = find_parent(parent, parent[x])\n",
    "    return parent[x]\n",
    "\n",
    "# 두 원소가 속한 집합을 합치기\n",
    "def union_parent(parent, a, b):\n",
    "    a = find_parent(parent,a)\n",
    "    b = find_parent(parent, b)\n",
    "    if a < b:\n",
    "        parent[b] = a\n",
    "    else:\n",
    "        parent[a] = b\n",
    "        \n",
    "# 노드와 개수와 간선(union연산)의 개수 입력받기\n",
    "n, m = map(int, input().split())\n",
    "parent = [0] * (n+1) # 부모 테이블 초기화\n",
    "\n",
    "# 모든 간선을 담을 리스트와 최종 비용을 담을 변수\n",
    "edges = []\n",
    "result = 0\n",
    "\n",
    "# 부모 테이블상에서, 부모를 자기 자신으로 초기화\n",
    "for i in range(1, n+1):\n",
    "    parent[i] = i\n",
    "    \n",
    "# 모든 간선에 대한 정보를 입력받기\n",
    "for _ in range(m):\n",
    "    x,y,z = map(int, input().split())\n",
    "    # 비용순으로 정렬하기 위해서 튜플의 첫번째 원소를 비용으로 설정\n",
    "    edges.append((z,x,y))\n",
    "    \n",
    "# 간선을 비용순으로 정렬\n",
    "edges.sort()\n",
    "total = 0\n",
    "\n",
    "# 간선을 하나씩 확인하며\n",
    "for edge in edges:\n",
    "    cost, a, b = edge\n",
    "    total += cost\n",
    "    # 사이클이 발생하지 않는 경우에만 집합에 포함\n",
    "    if find_parent(parent, a) != find_parent(parent, b):\n",
    "        union_parent(parent, a, b)\n",
    "        result += cost\n",
    "        \n",
    "print(total-result)\n",
    "            "
   ]
  },
  {
   "cell_type": "code",
   "execution_count": 14,
   "metadata": {},
   "outputs": [
    {
     "name": "stdout",
     "output_type": "stream",
     "text": [
      "5\n",
      "11 -15 -15\n",
      "14 -5 -15\n",
      "-1 -1 -5\n",
      "10 -4 -1\n",
      "19 -4 19\n"
     ]
    }
   ],
   "source": [
    "##### 행성터널\n",
    "\n",
    "def find_parent(parent, x):\n",
    "    if parent[x] != x:\n",
    "        parent[x] = find_parent(parent, parent[x])\n",
    "    return parent[x]\n",
    "\n",
    "\n",
    "def union_parent(parent, a, b):\n",
    "    a = find_parent(parent, a)\n",
    "    b = find_parent(parent, b)\n",
    "    if a < b:\n",
    "        parent[b] = a\n",
    "    else:\n",
    "        parent[a] = b\n",
    "\n",
    "\n",
    "N = int(input())\n",
    "\n",
    "parent = [0] * (N + 1)\n",
    "\n",
    "result = 0\n",
    "route = []\n",
    "\n",
    "for i in range(1, N + 1):\n",
    "    parent[i] = i\n",
    "\n",
    "arr1 = []\n",
    "arr2 = []\n",
    "arr3 = []\n",
    "\n",
    "for i in range(1, N+1):\n",
    "    x, y, z = map(int, input().split())\n",
    "    arr1.append((x,i))\n",
    "    arr2.append((y,i))\n",
    "    arr3.append((z,i))\n",
    "\n"
   ]
  },
  {
   "cell_type": "code",
   "execution_count": 15,
   "metadata": {},
   "outputs": [
    {
     "name": "stdout",
     "output_type": "stream",
     "text": [
      "4\n"
     ]
    }
   ],
   "source": [
    "arr1.sort()\n",
    "arr2.sort()\n",
    "arr3.sort()\n",
    "\n",
    "for i in range(N-1):\n",
    "    route.append((abs(arr1[i+1][0] - arr1[i][0]), arr1[i][1], arr1[i+1][1]))\n",
    "    route.append((abs(arr2[i+1][0] - arr2[i][0]), arr2[i][1], arr2[i+1][1]))\n",
    "    route.append((abs(arr3[i+1][0] - arr3[i][0]), arr3[i][1], arr3[i+1][1]))\n",
    "                 \n",
    "route.sort()\n",
    "\n",
    "# 간선을 하나씩 확인하며\n",
    "for edge in route:\n",
    "    cost, x, y = edge\n",
    "\n",
    "    if find_parent(parent, x) != find_parent(parent, y):\n",
    "        union_parent(parent, x, y)\n",
    "        result += cost\n",
    "\n",
    "print(result)       "
   ]
  },
  {
   "cell_type": "code",
   "execution_count": null,
   "metadata": {},
   "outputs": [],
   "source": []
  },
  {
   "cell_type": "code",
   "execution_count": null,
   "metadata": {},
   "outputs": [],
   "source": []
  },
  {
   "cell_type": "code",
   "execution_count": null,
   "metadata": {},
   "outputs": [],
   "source": []
  },
  {
   "cell_type": "code",
   "execution_count": null,
   "metadata": {},
   "outputs": [],
   "source": []
  },
  {
   "cell_type": "code",
   "execution_count": null,
   "metadata": {},
   "outputs": [],
   "source": []
  },
  {
   "cell_type": "code",
   "execution_count": null,
   "metadata": {},
   "outputs": [],
   "source": []
  }
 ],
 "metadata": {
  "kernelspec": {
   "display_name": "Python 3",
   "language": "python",
   "name": "python3"
  },
  "language_info": {
   "codemirror_mode": {
    "name": "ipython",
    "version": 3
   },
   "file_extension": ".py",
   "mimetype": "text/x-python",
   "name": "python",
   "nbconvert_exporter": "python",
   "pygments_lexer": "ipython3",
   "version": "3.7.6"
  }
 },
 "nbformat": 4,
 "nbformat_minor": 4
}
