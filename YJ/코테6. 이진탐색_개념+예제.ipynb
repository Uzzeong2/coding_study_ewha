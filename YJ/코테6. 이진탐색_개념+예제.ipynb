{
 "cells": [
  {
   "cell_type": "markdown",
   "metadata": {},
   "source": [
    "#### 1. 순차탐색"
   ]
  },
  {
   "cell_type": "markdown",
   "metadata": {},
   "source": [
    "리스트 안에 있는 특정한 데이터를 찾기 위해 앞에서부터 데이터를 하나씩 차례대로 확인하는 방법"
   ]
  },
  {
   "cell_type": "code",
   "execution_count": 1,
   "metadata": {},
   "outputs": [
    {
     "name": "stdout",
     "output_type": "stream",
     "text": [
      "생성할 원소 개수를 입력한 다음 한 칸 띄고 찾을 문자열을 입력하세요.\n",
      "5 Dongbin\n",
      "앞서 적은 원소 개수만큼 문자열을 입력하세요. 구분은 띄어쓰기 한 칸으로 합니다.\n",
      "Hanul Jonggu Dongbin Taeil Sangwook\n",
      "3\n"
     ]
    }
   ],
   "source": [
    "# 7-1. 순차 탐색 소스코드\n",
    "\n",
    "# 순차 탐색 소스코드 구현\n",
    "def sequential_search(n, target, array):\n",
    "    # 각 원소를 하나씩 확인하며\n",
    "    for i in range(n):\n",
    "        # 현재의 원소가 찾고자 하는 원소와 동일한 경우\n",
    "        if array[i] == target:\n",
    "            return i +1  # 현재의 위치 반환(인덱스는 0부터 시작하니까 +1)\n",
    "print(\"생성할 원소 개수를 입력한 다음 한 칸 띄고 찾을 문자열을 입력하세요.\")\n",
    "input_data = input().split()\n",
    "n = int(input_data[0]) # 원소의 개수\n",
    "target = input_data[1] # 찾고자 하는 문자열\n",
    "\n",
    "print(\"앞서 적은 원소 개수만큼 문자열을 입력하세요. 구분은 띄어쓰기 한 칸으로 합니다.\")\n",
    "array = input().split()\n",
    "\n",
    "# 순차 탐색 수행 결과 출력\n",
    "print(sequential_search(n,target,array))\n"
   ]
  },
  {
   "cell_type": "markdown",
   "metadata": {},
   "source": [
    "#### 2. 이진탐색:반으로 쪼개면서 탐색하기 "
   ]
  },
  {
   "cell_type": "markdown",
   "metadata": {},
   "source": [
    "배열 내부의 데이터가 정렬되어 있어야만 사용할 수 있는 알고리즘.  \n",
    "탐색범위를 절반씩 좁혀가며 데이터를 탐색하는 특징이 있다.  \n",
    "찾으려는 데이터와 중간점 위치에 있는 데이터를 반복적으로 비교해 원하는 데이터 찾는 과정."
   ]
  },
  {
   "cell_type": "code",
   "execution_count": 2,
   "metadata": {},
   "outputs": [
    {
     "name": "stdout",
     "output_type": "stream",
     "text": [
      "10 7\n",
      "1 3 5 7 9 11 13 15 17 19\n",
      "4\n"
     ]
    }
   ],
   "source": [
    "# 7-2. 재귀함수로 구현한 이진탐색 소스코드\n",
    "\n",
    "# 이진 탐색 소스코드 구현(재귀함수)\n",
    "def binary_search(array, target, start, end):\n",
    "    if start > end:\n",
    "        return None\n",
    "    mid = (start + end) // 2\n",
    "    # 찾은 경우 중간점 인덱스 반환\n",
    "    if array[mid] == target:\n",
    "        return mid\n",
    "    # 중간점의 값보다 찾고자 하는 값이 작은 경우 왼쪽 확인\n",
    "    elif array[mid] > target:\n",
    "        return binary_search(array, target, start, mid-1)\n",
    "    # 중간점의 값보다 찾고자 하는 값이 큰 경우 오른쪽 확인\n",
    "    else:\n",
    "        return binary_search(array, target, mid + 1, end)\n",
    "    \n",
    "# n(원소의 개수)과 target(찾고자 하는 문자열)을 입력받기\n",
    "n, target = list(map(int, input().split()))\n",
    "# 전체 원소 입력받기\n",
    "array = list(map(int, input().split()))\n",
    "\n",
    "# 이진 탐색 수행 결과 출력\n",
    "result = binary_search(array, target, 0, n-1)\n",
    "if result == None:\n",
    "    print(\"원소가 존재하지 않습니다.\")\n",
    "else:\n",
    "    print(result + 1)"
   ]
  },
  {
   "cell_type": "code",
   "execution_count": 3,
   "metadata": {},
   "outputs": [
    {
     "name": "stdout",
     "output_type": "stream",
     "text": [
      "10 7\n",
      "1 3 5 6 8 11 13 15 17 19\n",
      "원소가 존재하지 않습니다.\n"
     ]
    }
   ],
   "source": [
    "# 7-3. 반복문으로 구현한 이진 탐색 소스코드\n",
    "\n",
    "# 이진 탐색 소스코드 구현(반복문)\n",
    "def binary_search(array, target, start, end):\n",
    "    while start <= end:\n",
    "        mid = (start + end) // 2\n",
    "        # 찾은 경우 중간점 인덱스 반환\n",
    "        if array[mid] == target:\n",
    "            return mid\n",
    "        # 중간점의 값보다 찾고자 하는 값이 작은 경우 왼쪽 확인\n",
    "        elif array[mid] > target:\n",
    "            end = mid - 1\n",
    "        # 중간점의 값보다 찾고자 하는 값이 큰 경우 오른쪽 확인\n",
    "        else:\n",
    "            start = mid + 1\n",
    "    return None\n",
    "\n",
    "# n(원소의 개수)과 target(찾고자 하는 문자열)을 입력받기\n",
    "n, target = list(map(int, input().split()))\n",
    "# 전체 원소 입력받기\n",
    "array = list(map(int, input().split()))\n",
    "\n",
    "# 이진 탐색 수행 결과 출력\n",
    "result = binary_search(array, target, 0, n-1)\n",
    "if result == None:\n",
    "    print(\"원소가 존재하지 않습니다.\")\n",
    "else:\n",
    "    print(result + 1)"
   ]
  },
  {
   "cell_type": "markdown",
   "metadata": {},
   "source": [
    "#### 예제1. 부품찾기"
   ]
  },
  {
   "cell_type": "code",
   "execution_count": 4,
   "metadata": {},
   "outputs": [
    {
     "name": "stdout",
     "output_type": "stream",
     "text": [
      "5\n",
      "8 3 7 9 2\n",
      "3\n",
      "5 7 9\n",
      "no yes yes "
     ]
    }
   ],
   "source": [
    "n = int(input()) # 전체부품 개수\n",
    "\n",
    "array = list(map(int, input().split())) # 전체 부품 번호입력\n",
    "\n",
    "m = int(input()) # 확인해달라고한 부품 개수\n",
    "x = list(map(int, input().split())) # 확인해달라고한 부품번호 입력\n",
    "\n",
    "for i in x:\n",
    "    if i in array:\n",
    "        print('yes', end=' ')\n",
    "    else:\n",
    "        print('no', end=' ')"
   ]
  },
  {
   "cell_type": "markdown",
   "metadata": {},
   "source": [
    "#### 예제2. 떡볶이 떡 만들기 "
   ]
  },
  {
   "cell_type": "code",
   "execution_count": 5,
   "metadata": {},
   "outputs": [
    {
     "name": "stdout",
     "output_type": "stream",
     "text": [
      "4 6\n",
      "19 15 10 17\n",
      "15\n"
     ]
    }
   ],
   "source": [
    "# 높이 H. 높이 > H: H위의 부분이 잘리고, 낮은 떡은 잘리지 않음.\n",
    "# 요청한 길이가 M일때 적어도 M만큼의 떡을 얻기 위해 절단기에 설정할 수 있는 높이의 최댓값을 구하는 프로그램 작성\n",
    "\n",
    "n,m = list(map(int, input().split()))\n",
    "array = list(map(int, input().split()))\n",
    "\n",
    "start = 0\n",
    "end = max(array)\n",
    "\n",
    "result = 0\n",
    "while(start <= end):\n",
    "    total = 0\n",
    "    mid = (start + end) // 2\n",
    "    for x in array:\n",
    "        if x > mid:\n",
    "            total += x - mid\n",
    "    if total < m:\n",
    "        end = mid - 1\n",
    "    else:\n",
    "        result = mid\n",
    "        start = mid + 1 # ?\n",
    "        \n",
    "print(result)\n"
   ]
  },
  {
   "cell_type": "code",
   "execution_count": 4,
   "metadata": {},
   "outputs": [
    {
     "ename": "SyntaxError",
     "evalue": "invalid syntax (<ipython-input-4-64994c7b1c5b>, line 11)",
     "output_type": "error",
     "traceback": [
      "\u001b[1;36m  File \u001b[1;32m\"<ipython-input-4-64994c7b1c5b>\"\u001b[1;36m, line \u001b[1;32m11\u001b[0m\n\u001b[1;33m    if i !=\u001b[0m\n\u001b[1;37m                ^\u001b[0m\n\u001b[1;31mSyntaxError\u001b[0m\u001b[1;31m:\u001b[0m invalid syntax\n"
     ]
    }
   ],
   "source": [
    "# 실전문제28. 고정점 찾기(답지 이진탐색)\n",
    "    \n",
    "n = int(input())\n",
    "data = []\n",
    "for i in range(n):\n",
    "    data.append(int(input()))\n",
    " \n"
   ]
  },
  {
   "cell_type": "code",
   "execution_count": null,
   "metadata": {},
   "outputs": [],
   "source": [
    "# 실전문제29. 공유기 설치\n",
    "\n",
    "# 공유기 C개 최대한 많은 곳에서 사용, 한집에는 하나만 설치가능, 인접한 두 공유기 사이의 거리를 가능한 크게하여 설치.\n",
    "# 가장 인접한 두 공유기 사이의 거리를 최대!!\n",
    "from itertools import permutations\n",
    "n,c = list(map(int, input().split()))\n",
    "\n",
    "house=[]\n",
    "for _ in range(n):\n",
    "    house.append(int(input()))\n",
    "house.sort()\n",
    "\n",
    "start = 1\n",
    "end = house[-1] - house[0]\n",
    "\n",
    "result = 0\n",
    "while (start <= end):\n",
    "    mid = (start + end)//2\n",
    "    value = house[0]\n",
    "    count = 1\n",
    "    \n",
    "    for i in range(len(house)):\n",
    "        if house[i] >= value + mid:\n",
    "            count += 1\n",
    "            value = house[i]\n",
    "    \n",
    "    if count >= c:\n",
    "        start = mid + 1\n",
    "        result = mid\n",
    "        \n",
    "    else:\n",
    "        end = mid - 1\n",
    "    \n",
    "print(result)"
   ]
  },
  {
   "cell_type": "code",
   "execution_count": 5,
   "metadata": {},
   "outputs": [],
   "source": [
    "# 실전문제30. 가사검색\n",
    "\n",
    "import bisect\n",
    "import collections\n",
    "\n",
    "def func(a, left, right):\n",
    "    left_idx = bisect.bisect_left(a, left)\n",
    "    right_idx = bisect.bisect_right(a, right)\n",
    "    \n",
    "    return right_idx - left_idx\n",
    "\n",
    "def solution(words, queries):\n",
    "    answer = []\n",
    "    # 단어 길이 순으로 분리하기\n",
    "    dic = collections.defaultdic(list)\n",
    "    dic_reverse = collections.defaultdict(list)\n",
    "    for word in words:\n",
    "        # 단어 길이순으로 분리\n",
    "        dic[len(word)].append(word)\n",
    "        dic_reverse[len(word)].append(word[::-1])\n",
    "        \n",
    "    # 정렬\n",
    "    for key in dic.keys():\n",
    "        dic[key].sort()\n",
    "        dic_reverse[key].sort()\n",
    "        \n",
    "    for query in queries:\n",
    "        # 접미사에 와일드 카드가 붙은 경우\n",
    "        if query[0] != '?':\n",
    "            answer.append(func(dic[len(query)],query.replace('?','a'),query.replace('?','z')))\n",
    "        # 접두사에 와일드 카드가 붙은 경우\n",
    "        else:\n",
    "            query = query[::-1]\n",
    "            answer.append(func(dic_reverse[len(query)],query.replace('?','a'),query.replace('?','z')))\n",
    "            return answer       \n",
    "        \n",
    "        "
   ]
  },
  {
   "cell_type": "code",
   "execution_count": null,
   "metadata": {},
   "outputs": [],
   "source": []
  },
  {
   "cell_type": "code",
   "execution_count": null,
   "metadata": {},
   "outputs": [],
   "source": []
  },
  {
   "cell_type": "code",
   "execution_count": null,
   "metadata": {},
   "outputs": [],
   "source": []
  },
  {
   "cell_type": "code",
   "execution_count": null,
   "metadata": {},
   "outputs": [],
   "source": []
  }
 ],
 "metadata": {
  "kernelspec": {
   "display_name": "Python 3",
   "language": "python",
   "name": "python3"
  },
  "language_info": {
   "codemirror_mode": {
    "name": "ipython",
    "version": 3
   },
   "file_extension": ".py",
   "mimetype": "text/x-python",
   "name": "python",
   "nbconvert_exporter": "python",
   "pygments_lexer": "ipython3",
   "version": "3.7.6"
  }
 },
 "nbformat": 4,
 "nbformat_minor": 4
}
