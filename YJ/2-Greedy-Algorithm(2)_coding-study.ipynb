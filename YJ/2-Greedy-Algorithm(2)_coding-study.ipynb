{
 "cells": [
  {
   "cell_type": "code",
   "execution_count": 5,
   "metadata": {},
   "outputs": [
    {
     "name": "stdout",
     "output_type": "stream",
     "text": [
      "5\n",
      "2 3 1 2 2\n",
      "2\n"
     ]
    }
   ],
   "source": [
    "# 모험과 길드\n",
    "# 2 3 1 2 2\n",
    "n = int(input())\n",
    "data = list(map(int, input().split()))\n",
    "data.sort(reverse=True) # 3 2 2 / 2 1 \n",
    "\n",
    "group = 0\n",
    "i=0\n",
    "while i<n:\n",
    "    if data[data[i]]<1:\n",
    "        break\n",
    "    elif data[data[i]]>=1:\n",
    "        group += 1\n",
    "        i += data[i]\n",
    "        \n",
    "print(group)"
   ]
  },
  {
   "cell_type": "code",
   "execution_count": 43,
   "metadata": {},
   "outputs": [
    {
     "name": "stdout",
     "output_type": "stream",
     "text": [
      "0011100\n",
      "1 2\n"
     ]
    }
   ],
   "source": [
    "# 문자열 뒤집기\n",
    "data = input()\n",
    "dat=[]\n",
    "for i in range(len(data)):\n",
    "    dat.append(int(data[i]))\n",
    "\n",
    "to0 = 0 \n",
    "to1 = 0\n",
    "\n",
    "if dat[0] == 1:\n",
    "    to0 += 1\n",
    "elif dat[0] == 0:\n",
    "    to1 += 1\n",
    "\n",
    "for i in range(1,len(data)):\n",
    "    if data[i] != data[i-1]:\n",
    "        if data[i] == '1':\n",
    "            to0 += 1\n",
    "        elif data[i] == '0':\n",
    "            to1 += 1\n",
    "            \n",
    "print(to0, to1)"
   ]
  },
  {
   "cell_type": "code",
   "execution_count": 48,
   "metadata": {},
   "outputs": [
    {
     "name": "stdout",
     "output_type": "stream",
     "text": [
      "5 3\n",
      "1 3 2 3 2\n",
      "8\n"
     ]
    }
   ],
   "source": [
    "# 볼링공 1 3 2 3 2\n",
    "n, m = map(int, input().split()) # 볼링공 개수, 공의 최대 무게\n",
    "data = list(map(int, input().split()))\n",
    "# 1 2 2 3 3\n",
    "# A = 1 -> B = 2,3,4,5\n",
    "# A = 2or3 -> B = 4,5\n",
    "result = 0\n",
    "for i in range(n):\n",
    "    for j in range(i,n):\n",
    "        if data[i] != data[j]:\n",
    "            result += 1\n",
    "\n",
    "print(result)\n"
   ]
  },
  {
   "cell_type": "code",
   "execution_count": null,
   "metadata": {},
   "outputs": [],
   "source": []
  },
  {
   "cell_type": "code",
   "execution_count": null,
   "metadata": {},
   "outputs": [],
   "source": []
  }
 ],
 "metadata": {
  "kernelspec": {
   "display_name": "Python 3",
   "language": "python",
   "name": "python3"
  },
  "language_info": {
   "codemirror_mode": {
    "name": "ipython",
    "version": 3
   },
   "file_extension": ".py",
   "mimetype": "text/x-python",
   "name": "python",
   "nbconvert_exporter": "python",
   "pygments_lexer": "ipython3",
   "version": "3.7.6"
  }
 },
 "nbformat": 4,
 "nbformat_minor": 4
}
