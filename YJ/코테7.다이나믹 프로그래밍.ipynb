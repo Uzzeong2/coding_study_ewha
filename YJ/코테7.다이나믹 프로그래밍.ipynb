{
 "cells": [
  {
   "cell_type": "markdown",
   "metadata": {},
   "source": [
    "# 다이나믹 프로그래밍\n",
    "\n",
    "한 번 계산한 문제는 다시 계산하지 않도록 하는 알고리즘  \n",
    "중복되는 연산을 줄이자.  "
   ]
  },
  {
   "cell_type": "code",
   "execution_count": 1,
   "metadata": {},
   "outputs": [
    {
     "name": "stdout",
     "output_type": "stream",
     "text": [
      "3\n"
     ]
    }
   ],
   "source": [
    "# 8-1.py 피보나치 함수 소스코드\n",
    "\n",
    "# 피보나치 함수를 재귀함수로 표현\n",
    "def fibo(x):\n",
    "    if x == 1 or x == 2:\n",
    "        return 1\n",
    "    return fibo(x-1) + fibo(x-2)\n",
    "\n",
    "print(fibo(4))"
   ]
  },
  {
   "cell_type": "markdown",
   "metadata": {},
   "source": [
    "효율적인 실행을 위해 메모제이션을 사용한다.  \n",
    "메모제이션: 한번 구한 결과를 메모리 공간에 메모해두고 같은 식을 다시 호출하면 메모한 결과를 그대로 가져온다.  \n",
    "=Caching\n",
    "-> 한번 구한 정보를 리스트에 저장한다. 다이나믹 프로그래밍을 재귀적으로 수행하다가 같은 정보가 필요할때 이미 구한 정답을 그대로 리스트에서 가져오면 된다."
   ]
  },
  {
   "cell_type": "code",
   "execution_count": 2,
   "metadata": {},
   "outputs": [
    {
     "name": "stdout",
     "output_type": "stream",
     "text": [
      "218922995834555169026\n"
     ]
    }
   ],
   "source": [
    "# 8-2.py 피보나치 수열 소스코드(재귀적)\n",
    "\n",
    "# 한 번 계산된 결과를 메모이제이션하기 위한 리스트 초기화\n",
    "d = [0]*100\n",
    "\n",
    "# 피보나치 함수를 재귀함수로 구현\n",
    "def fibo(x):\n",
    "    # 종료조건(1 혹은 2일때 1을 반환)\n",
    "    if x == 1 or x == 2 :\n",
    "        return 1\n",
    "    # 이미 계산한 적 있는 문제라면 그대로 반환\n",
    "    if d[x] != 0:\n",
    "        return d[x]\n",
    "    # 아직 계산한 적 없는 문제라면 점화식에 따라서 피보나치 결과 반환\n",
    "    d[x] = fibo(x-1) + fibo(x-2)\n",
    "    return d[x]\n",
    "\n",
    "print(fibo(99))    "
   ]
  },
  {
   "cell_type": "code",
   "execution_count": 4,
   "metadata": {},
   "outputs": [
    {
     "name": "stdout",
     "output_type": "stream",
     "text": [
      "f(6) f(5) f(4) f(3) f(2) f(1) f(2) f(3) f(4) "
     ]
    },
    {
     "data": {
      "text/plain": [
       "8"
      ]
     },
     "execution_count": 4,
     "metadata": {},
     "output_type": "execute_result"
    }
   ],
   "source": [
    "# 8-3.py 호출되는 함수 확인(탑다운)\n",
    "\n",
    "d = [0] * 100\n",
    "\n",
    "def pibo(x):\n",
    "    print('f(' + str(x) + ')', end=' ')\n",
    "    if x == 1 or x == 2:\n",
    "        return 1\n",
    "    if d[x] != 0:\n",
    "        return d[x]\n",
    "    d[x] = pibo(x-1) + pibo(x-2)\n",
    "    return d[x]\n",
    "\n",
    "pibo(6)"
   ]
  },
  {
   "cell_type": "markdown",
   "metadata": {},
   "source": [
    "재귀함수를 이용하여 다이나믹 프로그래밍 소스코드 작성하는 방법, 즉 큰문제를 해결하기 위해 작은문제를 호출했기에 '탑다운' 방식이라고 한다. -> 하향식  \n",
    "단순히 반복문을 이용해 소스코드를 작성하는 경우 작은문제부터 차근차근 답을 도출하기에 '보텀업' 방식이라고 한다.  \n",
    "-> 상향식"
   ]
  },
  {
   "cell_type": "code",
   "execution_count": 5,
   "metadata": {},
   "outputs": [
    {
     "name": "stdout",
     "output_type": "stream",
     "text": [
      "218922995834555169026\n"
     ]
    }
   ],
   "source": [
    "# 8-4.py 피보나치 수열 소스코드(반복적)\n",
    "\n",
    "# 앞서 계산된 결과를 저장하기 위한 DP 테이블 초기화\n",
    "d = [0] * 100\n",
    "\n",
    "# 첫 번째 피보나치 수와 두 번째 피보나치 수는 1\n",
    "d[1] = 1\n",
    "d[2] = 1\n",
    "n = 99\n",
    "\n",
    "# 피보나치 함수 반복문으로 구현(보텀업)\n",
    "for i in range(3, n+1):\n",
    "    d[i] = d[i-1] + d[i-2]\n",
    "    \n",
    "print(d[n])\n"
   ]
  },
  {
   "cell_type": "markdown",
   "metadata": {},
   "source": [
    "특정문제를 완전탐색 알고리즘으로 접근했을때 시간이 오래 걸리면 다이나믹 프로그래밍 적용할 수 있는지 해결하고자 하는 부분 문제들의 중복 여부 확인하기.\n",
    "가능한 탑다운 보다는 보텀업 방식으로 구현하는 것 권장. 시스템상 재귀함수의 스택 크기가 한정되어 있을 수 있기 때문이다. recursion depth 재귀함수 길이와 관련된 오류 방지. 이 경우 sys 라이브러리에 있는 setrecursionlimit() 호출해 재귀 제한을 완화할 수 있다."
   ]
  },
  {
   "cell_type": "code",
   "execution_count": 6,
   "metadata": {},
   "outputs": [
    {
     "name": "stdout",
     "output_type": "stream",
     "text": [
      "26\n",
      "3\n"
     ]
    }
   ],
   "source": [
    "# 실전예제1. 1로 만들기\n",
    "\n",
    "# 정수 X가 5로 나누어떨어지면 5로 나눈다\n",
    "# X가 3으로 나누어떨어지면 3으로 나눈다\n",
    "# X가 2로 나누어떨어지면 2로 나눈다\n",
    "# X에서 1을 뺀다\n",
    "\n",
    "x = int(input())\n",
    "\n",
    "# 앞서 계산된 결과를 저장하기 위해 DP 테이블 초기화\n",
    "d = [0] * 30001\n",
    "\n",
    "# 보텀업\n",
    "for i in range(2, x+1):\n",
    "    d[i] = d[i-1] + 1\n",
    "    if i % 2 == 0:\n",
    "        d[i] = min(d[i], d[i // 2]+1)\n",
    "    if i % 3 == 0:\n",
    "        d[i] = min(d[i], d[i // 3]+1)\n",
    "    if i % 5 == 0:\n",
    "        d[i] = min(d[i], d[i // 5]+1)\n",
    "    \n",
    "print(d[x])"
   ]
  },
  {
   "cell_type": "code",
   "execution_count": 7,
   "metadata": {},
   "outputs": [
    {
     "name": "stdout",
     "output_type": "stream",
     "text": [
      "4\n",
      "1 3 1 5\n",
      "8\n"
     ]
    }
   ],
   "source": [
    "# 실전예제2. 개미 전사??\n",
    "\n",
    "n = int(input())\n",
    "k = list(map(int, input().split()))\n",
    "\n",
    "d = [0]*100\n",
    "\n",
    "d[0]=k[0]\n",
    "d[1]=max(k[0],k[1])\n",
    "for i in range(2,n):\n",
    "    d[i] = max(d[i-1],d[i-2]+k[i])\n",
    "    \n",
    "print(d[n-1])"
   ]
  },
  {
   "cell_type": "code",
   "execution_count": 1,
   "metadata": {},
   "outputs": [
    {
     "name": "stdout",
     "output_type": "stream",
     "text": [
      "3\n",
      "5\n"
     ]
    }
   ],
   "source": [
    "# 실전예제3. 바닥 공사\n",
    "\n",
    "n = int(input())\n",
    "\n",
    "d = [0] * 1001\n",
    "\n",
    "d[1] = 1\n",
    "d[2] = 3\n",
    "for i in range(3, n+1):\n",
    "    d[i] = (d[i-1] + 2*d[i-2]) % 796796\n",
    "    \n",
    "print(d[n])"
   ]
  },
  {
   "cell_type": "code",
   "execution_count": 1,
   "metadata": {},
   "outputs": [
    {
     "name": "stdout",
     "output_type": "stream",
     "text": [
      "3 4\n",
      "3\n",
      "5\n",
      "7\n",
      "-1\n"
     ]
    }
   ],
   "source": [
    "# 실전예제4. 효율적인 화폐 구성??\n",
    "\n",
    "# N가지 종류 화폐, 개수 최소한으로 이용해서 가치의 합이 M원 되도록.\n",
    "# 구성 같으면 순서상관없이 같은 경우.\n",
    "\n",
    "n,m = map(int, input().split())\n",
    "array = []\n",
    "for i in range(n):\n",
    "    array.append(int(input()))\n",
    "    \n",
    "d = [10001] * (m+1)\n",
    "d[0]=0\n",
    "for i in range(n):\n",
    "    for j in range(array[i], m+1):\n",
    "        if d[j - array[i]] != 10001:\n",
    "            d[j] = min(d[j], d[j - array[i]]+1)\n",
    "            \n",
    "if d[m] == 10001:\n",
    "    print(-1)\n",
    "else:\n",
    "    print(d[m])"
   ]
  },
  {
   "cell_type": "code",
   "execution_count": 18,
   "metadata": {},
   "outputs": [
    {
     "name": "stdout",
     "output_type": "stream",
     "text": [
      "2\n",
      "3 4\n",
      "1 3 3 2 2 1 4 1 0 6 4 7\n",
      "4 4\n",
      "1 3 1 5 2 2 4 1 5 0 2 3 0 6 1 2\n",
      "16\n"
     ]
    }
   ],
   "source": [
    "# 실전문제1. 금광\n",
    "\n",
    "for t in range(int(input())):\n",
    "    n,m = map(int, input().split())\n",
    "    gold = list(map(int, input().split()))\n",
    "    \n",
    "    dp = []\n",
    "    index = 0\n",
    "    for i in range(n):\n",
    "        dp.append(gold[index:index+m])\n",
    "        index += m\n",
    "    \n",
    "    \n",
    "# 시작 = (i,1) -> 마지막 = (n,m)\n",
    "# 오른쪽 = (i, j+1)\n",
    "# 오른쪽 아래 = (i+1, j+1)\n",
    "# 오른쪽 위 = (i-1, j+1)\n",
    "\n",
    "    for j in range(1,m):\n",
    "        for i in range(n):\n",
    "            if i == 0 :\n",
    "                left_up = 0\n",
    "            else:\n",
    "                left_up = dp[i-1][j-1]\n",
    "            if i == n-1 :\n",
    "                left_down = 0\n",
    "            else:\n",
    "                left_down = dp[i+1][j-1]\n",
    "            left = dp[i][j-1]\n",
    "            dp[i][j] = dp[i][j] + max(left_up, left_down, left)\n",
    "\n",
    "result = 0\n",
    "for i in range(n):\n",
    "    result = max(result, dp[i][m-1])   \n",
    "print(result)           \n",
    "        "
   ]
  },
  {
   "cell_type": "code",
   "execution_count": 7,
   "metadata": {},
   "outputs": [
    {
     "name": "stdout",
     "output_type": "stream",
     "text": [
      "5\n",
      "7\n",
      "3 8\n",
      "8 1 0\n",
      "2 7 4 4\n",
      "4 5 2 6 5\n",
      "30\n"
     ]
    }
   ],
   "source": [
    "### 실전문제 2. 정수삼각형\n",
    "\n",
    "n = int(input())\n",
    "dp = []\n",
    "\n",
    "for _ in range(n):\n",
    "    dp.append(list(map(int, input().split())))\n",
    "    \n",
    "for i in range(1,n):\n",
    "    for j in range(i+1):\n",
    "        if j == 0:\n",
    "            up_left = 0\n",
    "        else:\n",
    "            up_left = dp[i-1][j-1]\n",
    "        if j == i:\n",
    "            up = 0\n",
    "        else:\n",
    "            up = dp[i-1][j]\n",
    "        dp[i][j] = dp[i][j] + max(up_left, up)\n",
    "\n",
    "print(max(dp[n-1]))"
   ]
  },
  {
   "cell_type": "code",
   "execution_count": 13,
   "metadata": {},
   "outputs": [
    {
     "name": "stdout",
     "output_type": "stream",
     "text": [
      "7\n",
      "3 10\n",
      "5 20\n",
      "1 10\n",
      "1 20\n",
      "2 15\n",
      "4 40\n",
      "2 200\n",
      "20\n"
     ]
    }
   ],
   "source": [
    "# 실전문제 3. 퇴사\n",
    "\n",
    "n = int(input())\n",
    "T = []\n",
    "P = []\n",
    "dp = [0] * (n+1)\n",
    "max_val = 0\n",
    "\n",
    "for i in range(n):\n",
    "    t,p = list(map(int, input().split()))\n",
    "    T.append(t)\n",
    "    P.append(p)  \n",
    "\n",
    "for i in range(n):\n",
    "    time = T[i] + i\n",
    "    if time <= n:\n",
    "        value = P[i] + dp[time]\n",
    "        dp[i] = max(value, max_val)\n",
    "        max_val = dp[i]\n",
    "    else:\n",
    "        dp[i] = max_val\n",
    "    \n",
    "print(max_val)"
   ]
  },
  {
   "cell_type": "code",
   "execution_count": 9,
   "metadata": {},
   "outputs": [
    {
     "name": "stdout",
     "output_type": "stream",
     "text": [
      "150\n"
     ]
    }
   ],
   "source": [
    "for i in range(n-1,-1,-1):\n",
    "    time = T[i] + i\n",
    "    if time <= n:\n",
    "        value = P[i] + dp[time]\n",
    "        dp[i] = max(value, max_val)\n",
    "        max_val = dp[i]\n",
    "    else:\n",
    "        dp[i] = max_val\n",
    "\n",
    "print(max_val) "
   ]
  },
  {
   "cell_type": "code",
   "execution_count": 19,
   "metadata": {},
   "outputs": [
    {
     "name": "stdout",
     "output_type": "stream",
     "text": [
      "10\n",
      "12\n"
     ]
    }
   ],
   "source": [
    "# 실전문제 4. 못생긴 수\n",
    "\n",
    "n = int(input())\n",
    "ugly = [0]*n\n",
    "ugly[0] = 1\n",
    "i2=i3=i5=0\n",
    "# 1,2,3,5,2x,3x,5x -> n번째 추출\n",
    "mult2, mult3, mult5 = 2,3,5\n",
    "\n",
    "for i in range(1,n):\n",
    "    ugly[i]=min(mult2,mult3,mult5)\n",
    "    if ugly[i] == mult2:\n",
    "        i2 += 1\n",
    "        mult2 = ugly[i2]*2\n",
    "    if ugly[i] == mult3:\n",
    "        i3 += 1\n",
    "        mult3 = ugly[i3]*3\n",
    "    if ugly[i] == mult5:\n",
    "        i5 += 1\n",
    "        mult5 = ugly[i5]*5\n",
    "     \n",
    "print(ugly[n-1])\n",
    "\n",
    "    "
   ]
  },
  {
   "cell_type": "code",
   "execution_count": 32,
   "metadata": {},
   "outputs": [
    {
     "name": "stdout",
     "output_type": "stream",
     "text": [
      "10\n",
      "[2, 4, 6, 8, 10, 12, 14, 16, 18]\n",
      "[3, 6, 9, 12, 15, 18, 21, 24, 27]\n",
      "[5, 10, 15, 20, 25, 30, 35, 40, 45]\n",
      "[1, 2, 3, 4, 5, 6, 8, 9, 10, 12, 14, 15, 16, 18, 20, 21, 24, 25, 27, 30, 35, 40, 45]\n",
      "12\n"
     ]
    }
   ],
   "source": [
    "n = int(input())\n",
    "ugly = []\n",
    "\n",
    "# 1,2,3,5,2x,3x,5x -> n번째 추출\n",
    "initial = [1,2,3,5]\n",
    "next2 = []\n",
    "next3 = []\n",
    "next5 = []\n",
    "for i in range(1,n):\n",
    "    mult2, mult3, mult5 = 2*i, 3*i, 5*i\n",
    "    next2.append(mult2)\n",
    "    next3.append(mult3)\n",
    "    next5.append(mult5)\n",
    "    \n",
    "print(next2)\n",
    "print(next3)\n",
    "print(next5)\n",
    "\n",
    "ugly = initial + next2 + next3 + next5\n",
    "ugly.sort()\n",
    "\n",
    "ugly = list(set(ugly))\n",
    "\n",
    "print(ugly)\n",
    "print(ugly[n-1])"
   ]
  },
  {
   "cell_type": "code",
   "execution_count": null,
   "metadata": {},
   "outputs": [],
   "source": []
  },
  {
   "cell_type": "code",
   "execution_count": null,
   "metadata": {},
   "outputs": [],
   "source": []
  },
  {
   "cell_type": "code",
   "execution_count": null,
   "metadata": {},
   "outputs": [],
   "source": []
  },
  {
   "cell_type": "code",
   "execution_count": null,
   "metadata": {},
   "outputs": [],
   "source": []
  },
  {
   "cell_type": "code",
   "execution_count": null,
   "metadata": {},
   "outputs": [],
   "source": []
  },
  {
   "cell_type": "code",
   "execution_count": null,
   "metadata": {},
   "outputs": [],
   "source": []
  },
  {
   "cell_type": "code",
   "execution_count": null,
   "metadata": {},
   "outputs": [],
   "source": []
  },
  {
   "cell_type": "code",
   "execution_count": null,
   "metadata": {},
   "outputs": [],
   "source": []
  },
  {
   "cell_type": "code",
   "execution_count": null,
   "metadata": {},
   "outputs": [],
   "source": []
  }
 ],
 "metadata": {
  "kernelspec": {
   "display_name": "Python 3",
   "language": "python",
   "name": "python3"
  },
  "language_info": {
   "codemirror_mode": {
    "name": "ipython",
    "version": 3
   },
   "file_extension": ".py",
   "mimetype": "text/x-python",
   "name": "python",
   "nbconvert_exporter": "python",
   "pygments_lexer": "ipython3",
   "version": "3.7.6"
  }
 },
 "nbformat": 4,
 "nbformat_minor": 4
}
