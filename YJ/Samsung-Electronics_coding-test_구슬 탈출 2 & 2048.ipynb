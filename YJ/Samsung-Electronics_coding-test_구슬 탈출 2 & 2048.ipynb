{
 "cells": [
  {
   "cell_type": "code",
   "execution_count": null,
   "metadata": {},
   "outputs": [],
   "source": [
    "# 구현 그래프이론 그래프탐색 너비우선탐색"
   ]
  },
  {
   "cell_type": "markdown",
   "metadata": {},
   "source": [
    "1. 구슬탈출2"
   ]
  },
  {
   "cell_type": "code",
   "execution_count": 1,
   "metadata": {},
   "outputs": [
    {
     "name": "stdout",
     "output_type": "stream",
     "text": [
      "5 5\n",
      "#####\n",
      "#..B#\n",
      "#.#.#\n",
      "#RO.#\n",
      "#####\n"
     ]
    }
   ],
   "source": [
    "# bfs 너비우선탐색 사용해보기... 개어려워\n",
    "from collections import deque\n",
    "\n",
    "n,m = map(int, input().split())\n",
    "graph = [list(input().rstrip()) for _ in range(n)] # 문자열입력, 제거방향: lstrip, rstrip, strip"
   ]
  },
  {
   "cell_type": "code",
   "execution_count": 2,
   "metadata": {},
   "outputs": [
    {
     "name": "stdout",
     "output_type": "stream",
     "text": [
      "1\n"
     ]
    }
   ],
   "source": [
    "dx = [-1,1,0,0]\n",
    "dy = [0,0,-1,1]\n",
    "queue = deque()\n",
    "check=[[[[False]*m for _ in range(n)] for _ in range(m)] for _ in range(n)]\n",
    "\n",
    "def init(): # R 구슬 위치와 B 구슬 위치를 넣어 queue에 두개 들어감\n",
    "    rx,ry, bx, by=0,0,0,0\n",
    "    for i in range(n):\n",
    "        for j in range(m):\n",
    "            if graph[i][j]=='R':\n",
    "                rx,ry=i,j\n",
    "            elif graph[i][j]=='B':\n",
    "                bx,by=i,j\n",
    "    queue.append((rx,ry,bx,by,1))\n",
    "    check[rx][ry][bx][by]=True\n",
    "\n",
    "def move(x,y,dx,dy):\n",
    "    cnt=0  #벽을 만나거낙 0을 만나기 전까지 계속 직진\n",
    "    while graph[x+dx][y+dy] !=\"#\" and graph[x][y]!='O':\n",
    "        x+=dx\n",
    "        y+=dy\n",
    "        cnt+=1\n",
    "    return x,y,cnt\n",
    "\n",
    "def bfs():\n",
    "    init()\n",
    "    while queue:\n",
    "        rx,ry,bx,by,depth=queue.popleft()\n",
    "        if depth>10:\n",
    "            break\n",
    "        for i in range(4):\n",
    "            nrx,nry,rcnt=move(rx,ry,dx[i],dy[i])\n",
    "            nbx,nby,bcnt=move(bx,by,dx[i],dy[i])\n",
    "            if graph[nbx][nby] !='O':\n",
    "                if graph[nrx][nry]=='O':\n",
    "                    print(depth)\n",
    "                    return\n",
    "                if nrx==nbx and nry==nby:\n",
    "                    if rcnt>bcnt:\n",
    "                        nrx-=dx[i]\n",
    "                        nry-=dy[i]\n",
    "                    else:\n",
    "                        nbx-=dx[i]\n",
    "                        nby-=dy[i]\n",
    "\n",
    "                if not check[nrx][nry][nbx][nby]:\n",
    "                    check[nrx][nry][nbx][nby]=True\n",
    "                    queue.append((nrx,nry,nbx,nby,depth+1)) \n",
    "    print(-1)\n",
    "bfs()"
   ]
  },
  {
   "cell_type": "markdown",
   "metadata": {},
   "source": [
    "2. 2048"
   ]
  },
  {
   "cell_type": "code",
   "execution_count": 3,
   "metadata": {},
   "outputs": [
    {
     "name": "stdout",
     "output_type": "stream",
     "text": [
      "3\n",
      "2 2 2\n",
      "4 4 4\n",
      "8 8 8\n"
     ]
    }
   ],
   "source": [
    "from copy import deepcopy\n",
    "from collections import deque\n",
    "\n",
    "N = int(input())\n",
    "Board = [list(map(int, input().split())) for _ in range(N)]"
   ]
  },
  {
   "cell_type": "code",
   "execution_count": 4,
   "metadata": {},
   "outputs": [
    {
     "name": "stdout",
     "output_type": "stream",
     "text": [
      "16\n"
     ]
    }
   ],
   "source": [
    "import sys\n",
    "import copy\n",
    "\n",
    "n = int(input())\n",
    "\n",
    "arr = [list(map(int, sys.stdin.readline().split())) for _ in range(n)]\n",
    "ans = 0\n",
    "#print(arr)\n",
    "\n",
    "\n",
    "def move(idx):\n",
    "    # 0부터 3까지 상,하,좌,우 를 의미\n",
    "    if idx == 0:\n",
    "        for j in range(n):\n",
    "            idx = 0\n",
    "            for i in range(1, n):\n",
    "                if arr[i][j]:\n",
    "                    temp = arr[i][j]\n",
    "                    arr[i][j] = 0\n",
    "                    if arr[idx][j] == 0:\n",
    "                        arr[idx][j] = temp\n",
    "                    elif arr[idx][j] == temp:\n",
    "                        arr[idx][j] = temp * 2\n",
    "                        idx += 1\n",
    "                    else:\n",
    "                        idx += 1\n",
    "                        arr[idx][j] = temp\n",
    "    elif idx == 1:\n",
    "        for j in range(n):\n",
    "            idx = n - 1\n",
    "            for i in range(n - 2, -1, -1):\n",
    "                if arr[i][j]:\n",
    "                    temp = arr[i][j]\n",
    "                    arr[i][j] = 0\n",
    "                    if arr[idx][j] == 0:\n",
    "                        arr[idx][j] = temp\n",
    "                    elif arr[idx][j] == temp:\n",
    "                        arr[idx][j] = temp * 2\n",
    "                        idx -= 1\n",
    "                    else:\n",
    "                        idx -= 1\n",
    "                        arr[idx][j] = temp\n",
    "\n",
    "    elif idx == 2:\n",
    "        for i in range(n):\n",
    "            idx = 0\n",
    "            for j in range(1, n):\n",
    "                if arr[i][j]:\n",
    "                    temp = arr[i][j]\n",
    "                    arr[i][j] = 0\n",
    "                    if arr[i][idx] == 0:\n",
    "                        arr[i][idx] = temp\n",
    "                    elif arr[i][idx] == temp:\n",
    "                        arr[i][idx] = temp * 2\n",
    "                        idx += 1\n",
    "                    else:\n",
    "                        idx += 1\n",
    "                        arr[i][idx] = temp\n",
    "\n",
    "    else:\n",
    "        for i in range(n):\n",
    "            idx = n - 1\n",
    "            for j in range(n - 2, -1, -1):\n",
    "                if arr[i][j]:\n",
    "                    temp = arr[i][j]\n",
    "                    arr[i][j] = 0\n",
    "                    if arr[i][idx] == 0:\n",
    "                        arr[i][idx] = temp\n",
    "                    elif arr[i][idx] == temp:\n",
    "                        arr[i][idx] = temp * 2\n",
    "                        idx -= 1\n",
    "                    else:\n",
    "                        idx -= 1\n",
    "                        arr[i][idx] = temp\n",
    "\n",
    "\n",
    "def dfs(count):\n",
    "    global ans, arr\n",
    "    if count == 5:\n",
    "        for i in range(n):\n",
    "            ans = max(ans, max(arr[i]))\n",
    "        return\n",
    "\n",
    "    tmp = copy.deepcopy(arr)\n",
    "    for i in range(4):\n",
    "        move(i)\n",
    "        dfs(count + 1)\n",
    "        arr = copy.deepcopy(tmp)\n",
    "\n",
    "\n",
    "dfs(0)\n",
    "print(ans)"
   ]
  },
  {
   "cell_type": "code",
   "execution_count": 5,
   "metadata": {},
   "outputs": [
    {
     "name": "stdout",
     "output_type": "stream",
     "text": [
      "5\n",
      "1000000 1000000 1000000 1000000 1000000\n",
      "5 7\n"
     ]
    }
   ],
   "source": [
    "# 시험감독\n",
    "\n",
    "n = int(input()) # 시험장 개수\n",
    "apply = list(map(int, input().split())) # 응시자수\n",
    "b,c = map(int, input().split()) # b:총 c:부\n",
    "answer = 0"
   ]
  },
  {
   "cell_type": "code",
   "execution_count": 6,
   "metadata": {},
   "outputs": [
    {
     "name": "stdout",
     "output_type": "stream",
     "text": [
      "714290\n"
     ]
    }
   ],
   "source": [
    "for a in apply:\n",
    "    if a >= b:\n",
    "        a -= b\n",
    "        if a % c == 0:\n",
    "            answer += a // c\n",
    "        else:\n",
    "            answer += a // c+1\n",
    "            \n",
    "print(answer + n) # 총감독관"
   ]
  },
  {
   "cell_type": "code",
   "execution_count": 18,
   "metadata": {},
   "outputs": [
    {
     "name": "stdout",
     "output_type": "stream",
     "text": [
      "10\n",
      "5\n",
      "1 5\n",
      "1 3\n",
      "1 2\n",
      "1 6\n",
      "1 7\n",
      "4\n",
      "8 D\n",
      "10 D\n",
      "11 D\n",
      "13 L\n",
      "{8: 'D', 10: 'D', 11: 'D', 13: 'L'}\n"
     ]
    }
   ],
   "source": [
    "# 뱀\n",
    "\n",
    "n = int(input()) # 보드 크기\n",
    "k = int(input()) # 사고 개수\n",
    "board = [[0] * n for _ in range(n)]\n",
    "\n",
    "# 사과 위치 저장\n",
    "for _ in range(k):\n",
    "    a,b = map(int, input().split())\n",
    "    board[a-1][b-1] = 1\n",
    "\n",
    "# 방향 변경 정보 저장\n",
    "change = {}\n",
    "l = int(input())\n",
    "for _ in range(l):\n",
    "    x,c = input().split()\n",
    "    change[int(x)] = c\n",
    "\n",
    "print(change)\n",
    "    "
   ]
  },
  {
   "cell_type": "code",
   "execution_count": 19,
   "metadata": {},
   "outputs": [
    {
     "name": "stdout",
     "output_type": "stream",
     "text": [
      "dict_keys([8, 10, 11, 13])\n"
     ]
    }
   ],
   "source": [
    "# 뱀 위치\n",
    "from collections import deque\n",
    "snake = deque([[0,0]])\n",
    "\n",
    "# 상, 우, 하, 좌\n",
    "dx = [-1,0,1,0]\n",
    "dy = [0,1,0,-1]\n",
    "\n",
    "# 처음방향: 우\n",
    "d = 1 # 현재방향\n",
    "times = 0\n",
    "nx, ny = 0,0\n",
    "\n",
    "def check(x,y):\n",
    "    if 0 <= x < n and 0 <= y < n:\n",
    "        return True\n",
    "    else:\n",
    "        return False\n",
    "    \n",
    "# Left : 상(0) -> 좌(3) -> 하(2) -> 우(1) -> 상(0)\n",
    "# Right : 상(0) -> 우(1) -> 하(2) -> 좌(3) -> 상(0)\n",
    "def direction(c):\n",
    "    global d\n",
    "    if c == 'L':\n",
    "        d = (d-1) % 4\n",
    "    else:\n",
    "        d = (d+1) % 4\n",
    "    return d\n",
    "print(change.keys()) "
   ]
  },
  {
   "cell_type": "code",
   "execution_count": 20,
   "metadata": {},
   "outputs": [
    {
     "name": "stdout",
     "output_type": "stream",
     "text": [
      "13\n"
     ]
    }
   ],
   "source": [
    "while True:\n",
    "    times += 1\n",
    "    nx += dx[d]\n",
    "    ny += dy[d]\n",
    "    \n",
    "    if times in change.keys():\n",
    "        d = direction(change[times])\n",
    "        \n",
    "    if check(nx, ny):\n",
    "        if [nx,ny] in snake:\n",
    "            break\n",
    "        \n",
    "        # 사과 있으면\n",
    "        if board[nx][ny] == 1:\n",
    "            board[nx][ny] = 0\n",
    "            snake.append([nx,ny])\n",
    "        \n",
    "        # 사과 없으면\n",
    "        if board[nx][ny] == 0:\n",
    "            snake.append([nx,ny])\n",
    "            x,y = snake.popleft()\n",
    "    else:\n",
    "        break\n",
    "        \n",
    "print(times)"
   ]
  }
 ],
 "metadata": {
  "kernelspec": {
   "display_name": "Python 3",
   "language": "python",
   "name": "python3"
  },
  "language_info": {
   "codemirror_mode": {
    "name": "ipython",
    "version": 3
   },
   "file_extension": ".py",
   "mimetype": "text/x-python",
   "name": "python",
   "nbconvert_exporter": "python",
   "pygments_lexer": "ipython3",
   "version": "3.7.6"
  }
 },
 "nbformat": 4,
 "nbformat_minor": 4
}
